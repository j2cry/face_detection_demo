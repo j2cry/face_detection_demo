{
 "cells": [
  {
   "cell_type": "code",
   "execution_count": null,
   "metadata": {},
   "outputs": [],
   "source": [
    "import cv2\n",
    "import torch\n",
    "import numpy as np\n",
    "from facenet_pytorch import MTCNN"
   ]
  },
  {
   "cell_type": "markdown",
   "metadata": {},
   "source": [
    "Постоянное наблюдение - очень дорогое удовольствие."
   ]
  },
  {
   "cell_type": "code",
   "execution_count": null,
   "metadata": {},
   "outputs": [],
   "source": [
    "class FaceDetector:\n",
    "    def __init__(self, **params):\n",
    "        self.device = 'cuda' if torch.cuda.is_available() else 'cpu'\n",
    "        self.mtcnn = MTCNN(**params, device=self.device).eval()\n",
    "        self.frame = None\n",
    "        self.boxes = None\n",
    "        self.landmarks = None\n",
    "    \n",
    "    def face_detected(func):\n",
    "        def wrapper(self, *args, **kwargs):\n",
    "            return func(self, *args, **kwargs) if self.boxes is not None else None\n",
    "        return wrapper\n",
    "\n",
    "    def detect(self, frame, threshold=0.9, extract=True):\n",
    "        # detect face box, probability and landmarks\n",
    "        frame_tensor = torch.as_tensor(frame, device=self.device)\n",
    "        self.boxes, probs, landmarks = self.mtcnn.detect(frame_tensor, landmarks=True)\n",
    "        if self.boxes is not None:\n",
    "            self.frame = frame\n",
    "            keep = np.where(probs > threshold)\n",
    "            self.boxes = self.boxes[keep]\n",
    "            self.landmarks = landmarks[keep]\n",
    "\n",
    "        if extract:\n",
    "            return self.extract()\n",
    "    \n",
    "    @face_detected\n",
    "    def draw(self, color=(0, 255, 0), thickness=2, draw_landmarks=False):\n",
    "        # calculate bb coordinates\n",
    "        LT = self.boxes[:, :2]\n",
    "        RB = self.boxes[:, 2:] - LT\n",
    "        coordinates = np.hstack([LT.astype(int), RB.astype(int)])\n",
    "        bb_frame = self.frame.copy()\n",
    "        for coord in coordinates:\n",
    "            bb_frame = cv2.rectangle(bb_frame, coord, color, thickness)\n",
    "        # TODO add landmarks\n",
    "        if draw_landmarks:\n",
    "            pass\n",
    "        return bb_frame\n",
    "\n",
    "    @face_detected\n",
    "    def extract(self):\n",
    "        x_ranges = [range(*bounds) for bounds in self.boxes[:, ::2].astype(int)]\n",
    "        y_ranges = [range(*bounds) for bounds in self.boxes[:, 1::2].astype(int)]\n",
    "        self.faces = [self.frame[y][:, x] for x, y in zip(x_ranges, y_ranges)]\n",
    "        return self.faces\n",
    "        \n",
    "\n",
    "fd = FaceDetector()"
   ]
  },
  {
   "cell_type": "code",
   "execution_count": null,
   "metadata": {},
   "outputs": [],
   "source": [
    "# get webcam\n",
    "processing = True\n",
    "cv2.namedWindow(\"preview\")\n",
    "capture = cv2.VideoCapture(0)\n",
    "if capture.isOpened():\n",
    "    rval, frame = capture.read()\n",
    "else:\n",
    "    rval = False\n",
    "\n",
    "while rval and processing:\n",
    "    fd.detect(frame, extract=False)\n",
    "    \n",
    "    # отрисовка\n",
    "    bb_frame = fd.draw()\n",
    "    cv2.imshow(\"preview\", bb_frame if bb_frame is not None else frame)\n",
    "    # cv2.imshow(\"preview\", frame)\n",
    "    rval, frame = capture.read()\n",
    "    key = cv2.waitKey(50)\n",
    "    if key == 27:\n",
    "        processing = False\n",
    "    elif key == 32:\n",
    "        print('WoW')\n",
    "\n",
    "capture.release()\n",
    "cv2.destroyWindow(\"preview\")"
   ]
  },
  {
   "cell_type": "code",
   "execution_count": null,
   "metadata": {},
   "outputs": [],
   "source": [
    "#"
   ]
  }
 ],
 "metadata": {
  "kernelspec": {
   "display_name": "Python 3.9.12 ('jupyter_default')",
   "language": "python",
   "name": "python3"
  },
  "language_info": {
   "name": "python",
   "version": "3.9.12"
  },
  "orig_nbformat": 4,
  "vscode": {
   "interpreter": {
    "hash": "23a8a6843721b26098060b435da282c6499d0f0384483463012990926fcfc80c"
   }
  }
 },
 "nbformat": 4,
 "nbformat_minor": 2
}
